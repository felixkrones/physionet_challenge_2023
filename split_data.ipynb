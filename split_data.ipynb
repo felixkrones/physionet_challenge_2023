{
 "cells": [
  {
   "attachments": {},
   "cell_type": "markdown",
   "metadata": {},
   "source": [
    "# Split data"
   ]
  },
  {
   "cell_type": "code",
   "execution_count": null,
   "metadata": {},
   "outputs": [],
   "source": [
    "import os\n",
    "import numpy as np\n",
    "from pathlib import Path\n",
    "from tqdm import tqdm"
   ]
  },
  {
   "cell_type": "code",
   "execution_count": null,
   "metadata": {},
   "outputs": [],
   "source": [
    "input_dir = Path(\"/Users/felixkrones/python_projects/data/physionet_challenge_2023/files/i-care/1.0/training\")\n",
    "output_dir = Path(\"/Users/felixkrones/python_projects/data/physionet_challenge_2023\")\n",
    "\n",
    "random_seed = 21\n",
    "test_ratio = 0.1"
   ]
  },
  {
   "cell_type": "code",
   "execution_count": null,
   "metadata": {},
   "outputs": [],
   "source": [
    "# Get all folders in input_dir as list\n",
    "folders = [f for f in input_dir.glob('*/') if f.is_dir()]\n",
    "print(f\"Patients: {len(folders)}\")"
   ]
  },
  {
   "cell_type": "code",
   "execution_count": null,
   "metadata": {},
   "outputs": [],
   "source": [
    "# Split folders randomly into train, validation and test\n",
    "np.random.seed(random_seed)\n",
    "np.random.shuffle(folders)\n",
    "\n",
    "test_size = int(len(folders) * test_ratio)\n",
    "print(f\"test_size: {test_size}\")\n",
    "\n",
    "test_folders = folders[:test_size]\n",
    "train_folders = folders[test_size:]"
   ]
  },
  {
   "cell_type": "code",
   "execution_count": null,
   "metadata": {
    "collapsed": false,
    "pycharm": {
     "name": "#%%\n"
    }
   },
   "outputs": [],
   "source": [
    "# Create output folders\n",
    "(output_dir / Path(f\"train_{random_seed}\")).mkdir(parents=True, exist_ok=True)\n",
    "(output_dir / Path(f\"test_{random_seed}\")).mkdir(parents=True, exist_ok=True)"
   ]
  },
  {
   "cell_type": "code",
   "execution_count": null,
   "metadata": {},
   "outputs": [],
   "source": [
    "# Copy folders to output_dir\n",
    "for folder in tqdm(train_folders):\n",
    "    os.system(f\"cp -r {folder} {output_dir}/train_{random_seed}\")\n",
    "\n",
    "for folder in tqdm(test_folders):\n",
    "    os.system(f\"cp -r {folder} {output_dir}/test_{random_seed}\")"
   ]
  },
  {
   "cell_type": "code",
   "execution_count": null,
   "metadata": {},
   "outputs": [],
   "source": []
  }
 ],
 "metadata": {
  "kernelspec": {
   "display_name": "physionet_challenge_2023-6KmQCTHE",
   "language": "python",
   "name": "python3"
  },
  "language_info": {
   "codemirror_mode": {
    "name": "ipython",
    "version": 3
   },
   "file_extension": ".py",
   "mimetype": "text/x-python",
   "name": "python",
   "nbconvert_exporter": "python",
   "pygments_lexer": "ipython3",
   "version": "3.10.1"
  },
  "orig_nbformat": 4,
  "vscode": {
   "interpreter": {
    "hash": "8c7859a263fb6dd3b41dfb416a1f5868f09c8c7d0642e7c4106425a6e93418a6"
   }
  }
 },
 "nbformat": 4,
 "nbformat_minor": 2
}
