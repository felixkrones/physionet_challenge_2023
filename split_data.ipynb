{
 "cells": [
  {
   "attachments": {},
   "cell_type": "markdown",
   "metadata": {},
   "source": [
    "# Split data"
   ]
  },
  {
   "cell_type": "code",
   "execution_count": 1,
   "metadata": {},
   "outputs": [],
   "source": [
    "import os\n",
    "import pandas as pd\n",
    "import numpy as np"
   ]
  },
  {
   "cell_type": "code",
   "execution_count": 2,
   "metadata": {},
   "outputs": [],
   "source": [
    "input_dir = \"a_data/00_raw/physionet.org/files/i-care/1.0/training\"\n",
    "output_dir = \"a_data/04_model_input/\"\n",
    "\n",
    "random_seed = 42\n",
    "\n",
    "test_ratio = 0.1"
   ]
  },
  {
   "cell_type": "code",
   "execution_count": 3,
   "metadata": {},
   "outputs": [],
   "source": [
    "# Get all folders in input_dir as list\n",
    "folders = [f for f in os.listdir(input_dir) if os.path.isdir(os.path.join(input_dir, f))]"
   ]
  },
  {
   "cell_type": "code",
   "execution_count": 4,
   "metadata": {},
   "outputs": [],
   "source": [
    "# Split folders randomly into train, validation and test\n",
    "np.random.seed(random_seed)\n",
    "\n",
    "np.random.shuffle(folders)\n",
    "\n",
    "test_size = int(len(folders) * test_ratio)\n",
    "\n",
    "test_folders = folders[:test_size]\n",
    "train_folders = folders[test_size:]"
   ]
  },
  {
   "cell_type": "code",
   "execution_count": 5,
   "metadata": {},
   "outputs": [],
   "source": [
    "# Copy folders to output_dir\n",
    "for folder in train_folders:\n",
    "    os.system(f\"cp -r {input_dir}/{folder} {output_dir}/train_{random_seed}\")\n",
    "\n",
    "for folder in test_folders:\n",
    "    os.system(f\"cp -r {input_dir}/{folder} {output_dir}/test_{random_seed}\")"
   ]
  }
 ],
 "metadata": {
  "kernelspec": {
   "display_name": "physionet_challenge_2023-6KmQCTHE",
   "language": "python",
   "name": "python3"
  },
  "language_info": {
   "codemirror_mode": {
    "name": "ipython",
    "version": 3
   },
   "file_extension": ".py",
   "mimetype": "text/x-python",
   "name": "python",
   "nbconvert_exporter": "python",
   "pygments_lexer": "ipython3",
   "version": "3.10.1"
  },
  "orig_nbformat": 4,
  "vscode": {
   "interpreter": {
    "hash": "8c7859a263fb6dd3b41dfb416a1f5868f09c8c7d0642e7c4106425a6e93418a6"
   }
  }
 },
 "nbformat": 4,
 "nbformat_minor": 2
}
