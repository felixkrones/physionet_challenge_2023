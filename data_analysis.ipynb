{
 "cells": [
  {
   "attachments": {},
   "cell_type": "markdown",
   "metadata": {},
   "source": [
    "# 0. Initialize"
   ]
  },
  {
   "cell_type": "code",
   "execution_count": null,
   "metadata": {},
   "outputs": [],
   "source": [
    "import os\n",
    "from helper_code import *\n",
    "from team_code import get_features, get_outcome, get_times\n",
    "from tqdm import tqdm\n",
    "import matplotlib.pyplot as plt\n",
    "from matplotlib.pyplot import figure\n",
    "import seaborn as sns\n",
    "import numpy as np\n",
    "import pandas as pd\n",
    "from ast import literal_eval"
   ]
  },
  {
   "cell_type": "code",
   "execution_count": null,
   "metadata": {},
   "outputs": [],
   "source": [
    "data_folder = \"a_data/00_raw/physionet.org/files/i-care/1.0/training\"\n",
    "output_dir = \"a_data/01_intermediate/\"\n",
    "max_hours = 72\n",
    "min_quality = 0.0"
   ]
  },
  {
   "cell_type": "code",
   "execution_count": null,
   "metadata": {},
   "outputs": [],
   "source": [
    "# Check if output directory exists\n",
    "if not os.path.exists(output_dir):\n",
    "    os.makedirs(output_dir)"
   ]
  },
  {
   "attachments": {},
   "cell_type": "markdown",
   "metadata": {},
   "source": [
    "# 1. Get and prep data"
   ]
  },
  {
   "cell_type": "code",
   "execution_count": null,
   "metadata": {},
   "outputs": [],
   "source": [
    "patient_ids = find_data_folders(data_folder)\n",
    "num_patients = len(patient_ids)\n",
    "\n",
    "if num_patients==0:\n",
    "    raise FileNotFoundError('No data was provided.')\n",
    "\n",
    "features = list()\n",
    "recordings = list()\n",
    "outcomes = list()\n",
    "cpcs = list()\n",
    "for i in tqdm(range(num_patients)):\n",
    "    # Load data.\n",
    "    patient_id = patient_ids[i]\n",
    "    patient_metadata, recording_metadata, recording_data = load_challenge_data(data_folder, patient_id)\n",
    "\n",
    "    # Get recording dataframe\n",
    "    df_recordings = pd.DataFrame(recording_data, columns=[\"signals\", \"frequencies\", \"channels\"])\n",
    "    df_recordings[\"quality_score\"] = get_quality_scores(recording_metadata)\n",
    "    df_recordings[\"hours\"] = get_hours(recording_metadata)\n",
    "    df_recordings[\"times\"] = get_times(recording_metadata)\n",
    "    df_recordings[\"patient_id\"] = patient_id\n",
    "    recordings.append(df_recordings)\n",
    "\n",
    "    # Extract features.\n",
    "    current_features = get_features(patient_metadata, recording_metadata, recording_data, return_as_dict=True, max_hours=max_hours, min_quality=min_quality)\n",
    "    features.append(current_features)\n",
    "\n",
    "    # Extract labels.\n",
    "    current_outcome = get_outcome(patient_metadata)\n",
    "    outcomes.append(current_outcome)\n",
    "    current_cpc = get_cpc(patient_metadata)\n",
    "    cpcs.append(current_cpc)\n",
    "\n",
    "df_meta = pd.DataFrame(features)\n",
    "df_meta[\"patient_id\"] = patient_ids\n",
    "df_meta[\"outcomes\"] = np.vstack(outcomes)\n",
    "df_meta[\"cpcs\"]  = np.vstack(cpcs)\n",
    "df_recordings = pd.concat(recordings, ignore_index=True)\n",
    "df_recordings_not_nan = df_recordings[df_recordings[\"signals\"].notna()]\n",
    "df_combined = df_recordings_not_nan.merge(df_meta, on=\"patient_id\", how=\"left\")\n",
    "assert df_combined.shape[0] == df_recordings_not_nan.shape[0], \"The number of rows in the combined dataframe should be the same as the number of rows in the recordings dataframe.\""
   ]
  },
  {
   "cell_type": "code",
   "execution_count": null,
   "metadata": {},
   "outputs": [],
   "source": [
    "df_meta.to_csv(output_dir + \"df_meta.csv\", index=False)\n",
    "df_recordings_not_nan.to_pickle(output_dir + \"df_recordings_not_nan.pkl\")"
   ]
  },
  {
   "attachments": {},
   "cell_type": "markdown",
   "metadata": {},
   "source": [
    "# 2. Analyse"
   ]
  },
  {
   "cell_type": "code",
   "execution_count": null,
   "metadata": {},
   "outputs": [],
   "source": [
    "df_meta = pd.read_csv(output_dir + \"df_meta.csv\")\n",
    "df_recordings_not_nan = pd.read_pickle(output_dir + \"df_recordings_not_nan.pkl\")\n",
    "df_combined = df_recordings_not_nan.merge(df_meta, on=\"patient_id\", how=\"left\")\n",
    "assert df_combined.shape[0] == df_recordings_not_nan.shape[0], \"The number of rows in the combined dataframe should be the same as the number of rows in the recordings dataframe.\""
   ]
  },
  {
   "cell_type": "code",
   "execution_count": null,
   "metadata": {},
   "outputs": [],
   "source": [
    "print(\"Number of patients: {}\".format(df_meta.shape[0]))\n",
    "print(\"Number of recordings: {}\".format(df_recordings_not_nan.shape[0]))\n",
    "print(\"Number of signals: {}\".format(df_recordings_not_nan[\"signals\"].apply(lambda x: x.shape[0]).sum()))\n",
    "print(\"{}\".format(df_recordings_not_nan.shape[0])+\" * 18 = {}\".format(df_recordings_not_nan.shape[0]*18))"
   ]
  },
  {
   "cell_type": "code",
   "execution_count": null,
   "metadata": {},
   "outputs": [],
   "source": [
    "df_meta[[\"age\", \"female\", \"male\", \"other\", \"rosc\", \"ttm\", \"outcomes\", \"cpcs\"]].describe()"
   ]
  },
  {
   "cell_type": "code",
   "execution_count": null,
   "metadata": {},
   "outputs": [],
   "source": [
    "pd.crosstab(df_meta[\"male\"], df_meta[\"outcomes\"], margins=True, normalize=\"all\")"
   ]
  },
  {
   "cell_type": "code",
   "execution_count": null,
   "metadata": {},
   "outputs": [],
   "source": [
    "pd.crosstab(df_meta[\"male\"], df_meta[\"outcomes\"], margins=True, normalize=\"index\")"
   ]
  },
  {
   "cell_type": "code",
   "execution_count": null,
   "metadata": {},
   "outputs": [],
   "source": [
    "pd.crosstab(df_meta[\"cpcs\"], df_meta[\"outcomes\"], margins=True, normalize=\"columns\")"
   ]
  },
  {
   "cell_type": "code",
   "execution_count": null,
   "metadata": {},
   "outputs": [],
   "source": [
    "sns.scatterplot(data=df_meta, x=\"age\", y=\"rosc\", hue=\"outcomes\")"
   ]
  },
  {
   "cell_type": "code",
   "execution_count": null,
   "metadata": {},
   "outputs": [],
   "source": [
    "sns.histplot(data=df_meta, x=\"age\", bins=[10,20,30,40,50,60,70,80,90,100], stat=\"frequency\")"
   ]
  },
  {
   "cell_type": "code",
   "execution_count": null,
   "metadata": {},
   "outputs": [],
   "source": [
    "sns.histplot(df_combined.groupby(['patient_id'])['hours', 'outcomes'].max(), x=\"hours\", hue=\"outcomes\", bins=10, stat=\"frequency\")"
   ]
  },
  {
   "attachments": {},
   "cell_type": "markdown",
   "metadata": {},
   "source": [
    "# 3. EEG"
   ]
  },
  {
   "attachments": {},
   "cell_type": "markdown",
   "metadata": {},
   "source": [
    "## 3.1 Analysis"
   ]
  },
  {
   "cell_type": "code",
   "execution_count": null,
   "metadata": {},
   "outputs": [],
   "source": [
    "sns.histplot(data=df_recordings_not_nan, x=\"quality_score\", bins=10, stat=\"frequency\")"
   ]
  },
  {
   "attachments": {},
   "cell_type": "markdown",
   "metadata": {},
   "source": [
    "## 3.2 Plots"
   ]
  },
  {
   "cell_type": "code",
   "execution_count": null,
   "metadata": {},
   "outputs": [],
   "source": [
    "df_plot_bad_quality = df_recordings_not_nan[df_recordings_not_nan[\"quality_score\"]<0.1].iloc[42]\n",
    "df_plot_good_quality = df_recordings_not_nan[df_recordings_not_nan[\"quality_score\"]>0.99999].iloc[42]"
   ]
  },
  {
   "cell_type": "code",
   "execution_count": null,
   "metadata": {},
   "outputs": [],
   "source": [
    "good_patient_id = df_meta[df_meta[\"outcomes\"]==0][\"patient_id\"].values[42]\n",
    "bad_patient_id = df_meta[df_meta[\"outcomes\"]==1][\"patient_id\"].values[42]"
   ]
  },
  {
   "cell_type": "code",
   "execution_count": null,
   "metadata": {},
   "outputs": [],
   "source": [
    "# Convert times column to seconds since zero\n",
    "df_recordings_not_nan[\"100Hz_seconds\"] = df_recordings_not_nan[\"times\"].apply(lambda x: (int(x.split(\":\")[0])*60*60 + int(x.split(\":\")[1])*60)*100)\n",
    "\n",
    "# Get channels\n",
    "channels = df_recordings_not_nan[\"channels\"].values[0]\n",
    "\n",
    "# Filter\n",
    "df_plot_good = df_recordings_not_nan[df_recordings_not_nan.patient_id==good_patient_id]\n",
    "df_plot_bad = df_recordings_not_nan[df_recordings_not_nan.patient_id==bad_patient_id]\n",
    "df_plot_good_last_hour = df_plot_good.iloc[-1]\n",
    "df_plot_bad_last_hour = df_plot_bad.iloc[-1]\n",
    "\n",
    "# Prep\n",
    "empty_signals_good = np.empty((18, 72*60*60*100))\n",
    "empty_signals_bad = np.empty((18, 72*60*60*100))\n",
    "for idx, c in enumerate(channels):\n",
    "    for i, row in df_plot_good.iterrows():\n",
    "        empty_signals_good[idx, row[\"100Hz_seconds\"]:row[\"100Hz_seconds\"]+row[\"signals\"].shape[1]] = row[\"signals\"][idx]\n",
    "    for i, row in df_plot_bad.iterrows():\n",
    "        empty_signals_bad[idx, row[\"100Hz_seconds\"]:row[\"100Hz_seconds\"]+row[\"signals\"].shape[1]] = row[\"signals\"][idx]\n"
   ]
  },
  {
   "cell_type": "code",
   "execution_count": null,
   "metadata": {},
   "outputs": [],
   "source": [
    "# Over all hours\n",
    "figure(figsize=(12, 8))\n",
    "plt.plot(empty_signals_good[0, :], label=channels[0])\n",
    "plt.title(f\"Good outcome, patient {good_patient_id}\")\n",
    "plt.legend()\n",
    "plt.show()"
   ]
  },
  {
   "cell_type": "code",
   "execution_count": null,
   "metadata": {},
   "outputs": [],
   "source": [
    "# Last hour in once plot, good outcome\n",
    "figure(figsize=(12, 8))\n",
    "for idx, c in enumerate(df_plot_good_last_hour[\"channels\"]):\n",
    "    plt.plot(df_plot_good_last_hour[\"signals\"][idx], label=c)\n",
    "plt.title(f\"Good outcome, patient {df_plot_good_last_hour['patient_id']} in hour {df_plot_good_last_hour['hours']}, quality {df_plot_good_last_hour['quality_score']}\")\n",
    "plt.legend()\n",
    "plt.show()"
   ]
  },
  {
   "cell_type": "code",
   "execution_count": null,
   "metadata": {},
   "outputs": [],
   "source": [
    "# Last hour in once plot, poor outcome\n",
    "figure(figsize=(12, 8))\n",
    "for idx, c in enumerate(df_plot_bad_last_hour[\"channels\"]):\n",
    "    plt.plot(df_plot_bad_last_hour[\"signals\"][idx], label=c)\n",
    "plt.title(f\"Poor outcome, patient {df_plot_bad_last_hour['patient_id']} in hour {df_plot_bad_last_hour['hours']}, quality {df_plot_bad_last_hour['quality_score']}\")\n",
    "plt.legend()\n",
    "plt.show()"
   ]
  },
  {
   "cell_type": "code",
   "execution_count": null,
   "metadata": {},
   "outputs": [],
   "source": [
    "# Last hour in multiple plots, good outcome\n",
    "fig, axs = plt.subplots(len(df_plot_good_last_hour[\"channels\"]), 1, figsize=(15, 70))\n",
    "for idx, c in enumerate(df_plot_good_last_hour[\"channels\"][:18]):\n",
    "    axs[idx].plot(df_plot_good_last_hour[\"signals\"][idx], label=c)\n",
    "    axs[idx].title.set_text(c)\n",
    "fig.suptitle(f\"Good outcome, patient {df_plot_good_last_hour['patient_id']} in hour {df_plot_good_last_hour['hours']}, quality {df_plot_good_last_hour['quality_score']}\")\n",
    "fig.tight_layout(pad=7)"
   ]
  },
  {
   "cell_type": "code",
   "execution_count": null,
   "metadata": {},
   "outputs": [],
   "source": [
    "# Last hour in multiple plots, poor outcome\n",
    "fig, axs = plt.subplots(len(df_plot_bad_last_hour[\"channels\"]), 1, figsize=(15, 70))\n",
    "for idx, c in enumerate(df_plot_bad_last_hour[\"channels\"][:18]):\n",
    "    axs[idx].plot(df_plot_bad_last_hour[\"signals\"][idx], label=c)\n",
    "    axs[idx].title.set_text(c)\n",
    "fig.suptitle(f\"Bad outcome, patient {df_plot_bad_last_hour['patient_id']} in hour {df_plot_bad_last_hour['hours']}, quality {df_plot_bad_last_hour['quality_score']}\")\n",
    "fig.tight_layout(pad=7.0)"
   ]
  },
  {
   "cell_type": "code",
   "execution_count": null,
   "metadata": {},
   "outputs": [],
   "source": [
    "# Good quality\n",
    "figure(figsize=(12, 8))\n",
    "for idx, c in enumerate(df_plot_good_quality[\"channels\"]):\n",
    "    plt.plot(df_plot_good_quality[\"signals\"][idx], label=c)\n",
    "plt.title(f\"Good quality ({df_plot_good_quality['quality_score']}), patient {df_plot_good_quality['patient_id']} in hour {df_plot_good_quality['hours']}\")\n",
    "plt.legend()\n",
    "plt.show()"
   ]
  },
  {
   "cell_type": "code",
   "execution_count": null,
   "metadata": {},
   "outputs": [],
   "source": [
    "# Bad quality\n",
    "figure(figsize=(12, 8))\n",
    "for idx, c in enumerate(df_plot_bad_quality[\"channels\"]):\n",
    "    plt.plot(df_plot_bad_quality[\"signals\"][idx], label=c)\n",
    "plt.title(f\"Bad quality ({df_plot_bad_quality['quality_score']}), patient {df_plot_bad_quality['patient_id']} in hour {df_plot_bad_quality['hours']}\")\n",
    "plt.legend()\n",
    "plt.show()"
   ]
  },
  {
   "cell_type": "code",
   "execution_count": null,
   "metadata": {},
   "outputs": [],
   "source": []
  }
 ],
 "metadata": {
  "kernelspec": {
   "display_name": "physionet_challenge_2023-6KmQCTHE",
   "language": "python",
   "name": "python3"
  },
  "language_info": {
   "codemirror_mode": {
    "name": "ipython",
    "version": 3
   },
   "file_extension": ".py",
   "mimetype": "text/x-python",
   "name": "python",
   "nbconvert_exporter": "python",
   "pygments_lexer": "ipython3",
   "version": "3.10.1"
  },
  "orig_nbformat": 4,
  "vscode": {
   "interpreter": {
    "hash": "8c7859a263fb6dd3b41dfb416a1f5868f09c8c7d0642e7c4106425a6e93418a6"
   }
  }
 },
 "nbformat": 4,
 "nbformat_minor": 2
}
