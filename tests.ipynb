{
 "cells": [
  {
   "attachments": {},
   "cell_type": "markdown",
   "metadata": {},
   "source": [
    "# 0. Initialize"
   ]
  },
  {
   "cell_type": "code",
   "execution_count": null,
   "metadata": {},
   "outputs": [],
   "source": [
    "from helper_code import *\n",
    "from team_code import get_features, get_outcome\n",
    "\n",
    "import matplotlib.pyplot as plt\n",
    "from matplotlib.pyplot import figure\n",
    "import numpy as np\n",
    "import pandas as pd"
   ]
  },
  {
   "cell_type": "code",
   "execution_count": null,
   "metadata": {},
   "outputs": [],
   "source": [
    "data_folder = \"a_data/00_raw/training_subset\"\n",
    "max_hours = 72\n",
    "min_quality = 0.0\n"
   ]
  },
  {
   "attachments": {},
   "cell_type": "markdown",
   "metadata": {},
   "source": [
    "# 1. Get and prep data"
   ]
  },
  {
   "cell_type": "code",
   "execution_count": null,
   "metadata": {},
   "outputs": [],
   "source": [
    "patient_ids = find_data_folders(data_folder)\n",
    "num_patients = len(patient_ids)\n",
    "\n",
    "if num_patients==0:\n",
    "    raise FileNotFoundError('No data was provided.')\n",
    "\n",
    "features = list()\n",
    "recordings = list()\n",
    "outcomes = list()\n",
    "cpcs = list()\n",
    "for i in range(num_patients):\n",
    "    # Load data.\n",
    "    patient_id = patient_ids[i]\n",
    "    patient_metadata, recording_metadata, recording_data = load_challenge_data(data_folder, patient_id)\n",
    "\n",
    "    # Get recording dataframe\n",
    "    df_recordings = pd.DataFrame(recording_data, columns=[\"signals\", \"frequencies\", \"channels\"])\n",
    "    df_recordings[\"quality_score\"] = get_quality_scores(recording_metadata)\n",
    "    df_recordings[\"hours\"] = get_hours(recording_metadata)\n",
    "    df_recordings[\"patient_id\"] = patient_id\n",
    "    recordings.append(df_recordings)\n",
    "\n",
    "    # Extract features.\n",
    "    current_features = get_features(patient_metadata, recording_metadata, recording_data, return_as_dict=True, max_hours=max_hours, min_quality=min_quality)\n",
    "    features.append(current_features)\n",
    "\n",
    "    # Extract labels.\n",
    "    current_outcome = get_outcome(patient_metadata)\n",
    "    outcomes.append(current_outcome)\n",
    "    current_cpc = get_cpc(patient_metadata)\n",
    "    cpcs.append(current_cpc)\n",
    "\n",
    "df_meta = pd.DataFrame(features)\n",
    "df_meta[\"patient_id\"] = patient_ids\n",
    "df_meta[\"outcomes\"] = np.vstack(outcomes)\n",
    "df_meta[\"cpcs\"]  = np.vstack(cpcs)\n",
    "df_recordings = pd.concat(recordings, ignore_index=True)\n",
    "df_recordings_not_nan = df_recordings[df_recordings[\"signals\"].notna()]\n",
    "df_combined = df_recordings_not_nan.merge(df_meta, on=\"patient_id\", how=\"left\")\n",
    "assert df_combined.shape[0] == df_recordings_not_nan.shape[0], \"The number of rows in the combined dataframe should be the same as the number of rows in the recordings dataframe.\""
   ]
  },
  {
   "attachments": {},
   "cell_type": "markdown",
   "metadata": {},
   "source": [
    "# 2. Analyse"
   ]
  },
  {
   "cell_type": "code",
   "execution_count": null,
   "metadata": {},
   "outputs": [],
   "source": [
    "df_meta.head(3)"
   ]
  },
  {
   "cell_type": "code",
   "execution_count": null,
   "metadata": {},
   "outputs": [],
   "source": [
    "df_meta.describe()"
   ]
  },
  {
   "cell_type": "code",
   "execution_count": null,
   "metadata": {},
   "outputs": [],
   "source": [
    "df_combined.describe()"
   ]
  },
  {
   "cell_type": "code",
   "execution_count": null,
   "metadata": {},
   "outputs": [],
   "source": [
    "print(\"Number of patients: {}\".format(df_meta.shape[0]))\n",
    "print(\"Number of recordings: {}\".format(df_recordings_not_nan.shape[0]))\n",
    "print(\"Number of signals: {}\".format(df_recordings_not_nan[\"signals\"].apply(lambda x: x.shape[0]).sum()))\n",
    "print(\"{}\".format(df_recordings_not_nan.shape[0])+\" * 18 = {}\".format(df_recordings_not_nan.shape[0]*18))"
   ]
  },
  {
   "cell_type": "code",
   "execution_count": null,
   "metadata": {},
   "outputs": [],
   "source": [
    "i = 0\n",
    "df_plot = df_combined.iloc[i]"
   ]
  },
  {
   "cell_type": "code",
   "execution_count": null,
   "metadata": {},
   "outputs": [],
   "source": [
    "figure(figsize=(12, 8))\n",
    "for idx, c in enumerate(df_plot[\"channels\"]):\n",
    "    plt.plot(df_plot[\"signals\"][idx], label=c)\n",
    "plt.legend()\n",
    "plt.show()"
   ]
  },
  {
   "cell_type": "code",
   "execution_count": null,
   "metadata": {},
   "outputs": [],
   "source": [
    "fig, axs = plt.subplots(len(df_plot[\"channels\"]), 1, figsize=(12, 50))\n",
    "for idx, c in enumerate(df_plot[\"channels\"]):\n",
    "    axs[idx].plot(df_plot[\"signals\"][idx], label=c)\n",
    "    axs[idx].title.set_text(c)\n",
    "fig.tight_layout(pad=1.0)\n"
   ]
  }
 ],
 "metadata": {
  "kernelspec": {
   "display_name": "physionet_challenge_2023-6KmQCTHE",
   "language": "python",
   "name": "python3"
  },
  "language_info": {
   "codemirror_mode": {
    "name": "ipython",
    "version": 3
   },
   "file_extension": ".py",
   "mimetype": "text/x-python",
   "name": "python",
   "nbconvert_exporter": "python",
   "pygments_lexer": "ipython3",
   "version": "3.10.1"
  },
  "orig_nbformat": 4,
  "vscode": {
   "interpreter": {
    "hash": "8c7859a263fb6dd3b41dfb416a1f5868f09c8c7d0642e7c4106425a6e93418a6"
   }
  }
 },
 "nbformat": 4,
 "nbformat_minor": 2
}
